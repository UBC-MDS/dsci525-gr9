{
 "cells": [
  {
   "cell_type": "markdown",
   "id": "96cb645c-1007-48b0-b711-646cd4671178",
   "metadata": {
    "tags": []
   },
   "source": [
    "# Step0 : Imports"
   ]
  },
  {
   "cell_type": "code",
   "execution_count": 1,
   "id": "d20a54cd-25ef-4c55-b37e-337544a7aacb",
   "metadata": {},
   "outputs": [],
   "source": [
    "import re\n",
    "import os\n",
    "import glob\n",
    "import zipfile\n",
    "import requests\n",
    "from urllib.request import urlretrieve\n",
    "import json\n",
    "import pandas as pd"
   ]
  },
  {
   "cell_type": "markdown",
   "id": "81a8dcfd-eafe-408e-9638-9c479e5aef42",
   "metadata": {
    "tags": []
   },
   "source": [
    "# Step3 : Download the data"
   ]
  },
  {
   "cell_type": "markdown",
   "id": "59e4dd88-7d60-497c-95e1-d6ad4b0e24e7",
   "metadata": {},
   "source": [
    "### 3.1 Download the data from figshare"
   ]
  },
  {
   "cell_type": "code",
   "execution_count": 2,
   "id": "938d1248-1864-4037-a243-031ada81be97",
   "metadata": {},
   "outputs": [],
   "source": [
    "# Trigger request to download data\n",
    "article_id = \"14096681\"\n",
    "url = f\"https://api.figshare.com/v2/articles/{article_id}\"\n",
    "headers = {\"Content-Type\": \"application/json\"}\n",
    "output_directory = \"figsharerainfall/\"\n",
    "response = requests.request(\"GET\", url, headers=headers)\n",
    "data = json.loads(response.text)  \n",
    "files = data[\"files\"]            "
   ]
  },
  {
   "cell_type": "markdown",
   "id": "259ac278-4239-41ff-8eaf-43f769527739",
   "metadata": {},
   "source": [
    "### 3.2 Extract the zip file"
   ]
  },
  {
   "cell_type": "code",
   "execution_count": 5,
   "id": "c697532d-40a3-41f8-8390-8e6473c76524",
   "metadata": {},
   "outputs": [],
   "source": [
    "# Create zip file with downloaded data"
   ]
  },
  {
   "cell_type": "code",
   "execution_count": 4,
   "id": "c3dc50d5-9c23-45ee-8c93-2536788f0776",
   "metadata": {},
   "outputs": [
    {
     "name": "stdout",
     "output_type": "stream",
     "text": [
      "CPU times: user 3.58 s, sys: 11.5 s, total: 15.1 s\n",
      "Wall time: 2min 10s\n"
     ]
    }
   ],
   "source": [
    "%%time\n",
    "files_to_dl = [\"data.zip\"]\n",
    "for file in files:\n",
    "    if file[\"name\"] in files_to_dl:\n",
    "        os.makedirs(output_directory, exist_ok=True)\n",
    "        urlretrieve(file[\"download_url\"], output_directory + file[\"name\"])"
   ]
  },
  {
   "cell_type": "code",
   "execution_count": 6,
   "id": "20000eba-9dbe-4920-b098-fc26bbd593ca",
   "metadata": {},
   "outputs": [],
   "source": [
    "# Extract data into output directory"
   ]
  },
  {
   "cell_type": "code",
   "execution_count": 7,
   "id": "84d9cfbd-b91f-4534-af44-85224ef9662c",
   "metadata": {},
   "outputs": [
    {
     "name": "stdout",
     "output_type": "stream",
     "text": [
      "CPU times: user 7.65 s, sys: 1.23 s, total: 8.88 s\n",
      "Wall time: 9.29 s\n"
     ]
    }
   ],
   "source": [
    "%%time\n",
    "with zipfile.ZipFile(os.path.join(output_directory, \"data.zip\"), 'r') as f:\n",
    "    f.extractall(output_directory)"
   ]
  },
  {
   "cell_type": "markdown",
   "id": "e3334e61-8cd9-4e43-981d-270d87481094",
   "metadata": {},
   "source": [
    "# Step4 : Combining data CSVs"
   ]
  },
  {
   "cell_type": "code",
   "execution_count": 8,
   "id": "7cd2a20d-f0a6-4e08-a3e0-e51ff2e9f1d7",
   "metadata": {},
   "outputs": [
    {
     "name": "stdout",
     "output_type": "stream",
     "text": [
      "CPU times: user 3min 17s, sys: 11.8 s, total: 3min 29s\n",
      "Wall time: 3min 31s\n"
     ]
    }
   ],
   "source": [
    "%%time\n",
    "import pandas as pd\n",
    "excluded_files = [\"figsharerainfall\\\\observed_daily_rainfall_SYD.csv\"]\n",
    "files = glob.glob('figsharerainfall/*.csv')\n",
    "files = list(set(files) - set(excluded_files))\n",
    "df = pd.concat((pd.read_csv(file, index_col=0)\n",
    "                .assign(model=re.findall(\"/([^_]*)\", file)[0])\n",
    "                for file in files)\n",
    "              )\n",
    "df.to_csv(\"figsharerainfall/combined_data.csv\")"
   ]
  },
  {
   "cell_type": "markdown",
   "id": "7bc767f2-c49c-46a9-804f-ba478bcad488",
   "metadata": {},
   "source": [
    "| Team Member | Operating System | RAM | Processor | Is SSD | Time taken |\n",
    "|:-----------:|:----------------:|:---:|:---------:|:------:|:----------:|\n",
    "| Stephen    |                  |     |           |        |            |\n",
    "| Nate    |          MacOS        |  16GB   |    Apple M1 Pro       |   Yes     |     3min 31s       |\n",
    "| Natalie    |                  |     |           |        |            |\n",
    "| Nikita    |    Windows              |  16GB   |   12th Gen Intel(R) Core(TM) i7-1255U | Yes |   12min 49s         |"
   ]
  },
  {
   "cell_type": "markdown",
   "id": "a722a11d-97b2-4789-b4ed-3e072394b42f",
   "metadata": {},
   "source": [
    "# Step5 : Perform Simple EDA"
   ]
  },
  {
   "cell_type": "markdown",
   "id": "9967be9f-6877-4da9-9794-8f9db4bb2bec",
   "metadata": {},
   "source": [
    "### 5.1 Investigate at least two approaches to reduce memory usage while performing the EDA (e.g., value_counts."
   ]
  },
  {
   "cell_type": "code",
   "execution_count": 9,
   "id": "b22ad21f-252d-4692-9c79-446ede52532b",
   "metadata": {},
   "outputs": [],
   "source": [
    "# Original combine data"
   ]
  },
  {
   "cell_type": "code",
   "execution_count": 18,
   "id": "c410ddc4-8168-4847-8cd7-f6ca63783068",
   "metadata": {},
   "outputs": [
    {
     "name": "stdout",
     "output_type": "stream",
     "text": [
      "-34.869110    3035329\n",
      "-32.984293    3035329\n",
      "-32.041885    3035329\n",
      "-35.811518    1517670\n",
      "-33.926702    1517670\n",
      "               ...   \n",
      "-36.281964     183960\n",
      "-33.490981     183960\n",
      "-30.700015     183960\n",
      "-30.696652     183960\n",
      "-36.277805     183960\n",
      "Name: lat_min, Length: 86, dtype: int64\n",
      "-34.869110    3035329\n",
      "-32.984293    3035329\n",
      "-32.041885    3035329\n",
      "-29.214660    2023560\n",
      "-33.000000    1563660\n",
      "               ...   \n",
      "-27.909065     183960\n",
      "-33.487232     183960\n",
      "-30.696652     183960\n",
      "-27.906064     183960\n",
      "-30.700015     183960\n",
      "Name: lat_max, Length: 89, dtype: int64\n",
      "144.375000    2529713\n",
      "151.875000    2529713\n",
      "148.125000    2529713\n",
      "140.625000    2391653\n",
      "149.375000    1931573\n",
      "               ...   \n",
      "142.734375     230100\n",
      "141.328125     230100\n",
      "148.359375     230100\n",
      "143.750000     183960\n",
      "153.750000     138060\n",
      "Name: lon_min, Length: 78, dtype: int64\n",
      "144.375000    2529713\n",
      "148.125000    2529713\n",
      "151.875000    2529713\n",
      "141.875000    1931573\n",
      "150.625000    1931573\n",
      "               ...   \n",
      "146.953125     230100\n",
      "145.546875     230100\n",
      "144.140625     230100\n",
      "143.750000     183960\n",
      "155.625000     138060\n",
      "Name: lon_max, Length: 79, dtype: int64\n",
      "CPU times: user 28.9 s, sys: 7.03 s, total: 35.9 s\n",
      "Wall time: 39.3 s\n"
     ]
    }
   ],
   "source": [
    "%%time\n",
    "df = pd.read_csv(\"figsharerainfall/combined_data.csv\")\n",
    "print(df[\"lat_min\"].value_counts())\n",
    "print(df[\"lat_max\"].value_counts())\n",
    "print(df[\"lon_min\"].value_counts())\n",
    "print(df[\"lon_max\"].value_counts())"
   ]
  },
  {
   "cell_type": "code",
   "execution_count": 19,
   "id": "1a6d5171-38ce-42ec-a2c8-7e39d822f210",
   "metadata": {},
   "outputs": [],
   "source": [
    "# Approach1 - Select just columns we use"
   ]
  },
  {
   "cell_type": "code",
   "execution_count": 21,
   "id": "0ee088e0-e94e-4498-9782-1d4ed03a32f9",
   "metadata": {},
   "outputs": [
    {
     "name": "stdout",
     "output_type": "stream",
     "text": [
      "-34.869110    3035329\n",
      "-32.984293    3035329\n",
      "-32.041885    3035329\n",
      "-35.811518    1517670\n",
      "-33.926702    1517670\n",
      "               ...   \n",
      "-36.281964     183960\n",
      "-33.490981     183960\n",
      "-30.700015     183960\n",
      "-30.696652     183960\n",
      "-36.277805     183960\n",
      "Name: lat_min, Length: 86, dtype: int64\n",
      "-34.869110    3035329\n",
      "-32.984293    3035329\n",
      "-32.041885    3035329\n",
      "-29.214660    2023560\n",
      "-33.000000    1563660\n",
      "               ...   \n",
      "-27.909065     183960\n",
      "-33.487232     183960\n",
      "-30.696652     183960\n",
      "-27.906064     183960\n",
      "-30.700015     183960\n",
      "Name: lat_max, Length: 89, dtype: int64\n",
      "144.375000    2529713\n",
      "151.875000    2529713\n",
      "148.125000    2529713\n",
      "140.625000    2391653\n",
      "149.375000    1931573\n",
      "               ...   \n",
      "142.734375     230100\n",
      "141.328125     230100\n",
      "148.359375     230100\n",
      "143.750000     183960\n",
      "153.750000     138060\n",
      "Name: lon_min, Length: 78, dtype: int64\n",
      "144.375000    2529713\n",
      "148.125000    2529713\n",
      "151.875000    2529713\n",
      "141.875000    1931573\n",
      "150.625000    1931573\n",
      "               ...   \n",
      "146.953125     230100\n",
      "145.546875     230100\n",
      "144.140625     230100\n",
      "143.750000     183960\n",
      "155.625000     138060\n",
      "Name: lon_max, Length: 79, dtype: int64\n",
      "CPU times: user 19 s, sys: 3.45 s, total: 22.5 s\n",
      "Wall time: 23.9 s\n"
     ]
    }
   ],
   "source": [
    "%%time\n",
    "use_cols = ['lat_min','lat_max','lon_min','lon_max']\n",
    "df = pd.read_csv(\"figsharerainfall/combined_data.csv\",usecols=use_cols)\n",
    "print(df[\"lat_min\"].value_counts())\n",
    "print(df[\"lat_max\"].value_counts())\n",
    "print(df[\"lon_min\"].value_counts())\n",
    "print(df[\"lon_max\"].value_counts())"
   ]
  },
  {
   "cell_type": "code",
   "execution_count": 22,
   "id": "6fa293e2-c5b2-4354-9ac4-4021ebc1615e",
   "metadata": {},
   "outputs": [],
   "source": [
    "# Approach2 - Change data type"
   ]
  },
  {
   "cell_type": "code",
   "execution_count": 23,
   "id": "43da707b-3d8f-43a1-8c93-3f5cbaeba593",
   "metadata": {},
   "outputs": [
    {
     "name": "stdout",
     "output_type": "stream",
     "text": [
      "Memory usage with float64: 2000.44 MB\n",
      "Memory usage with float32: 1000.22 MB\n"
     ]
    }
   ],
   "source": [
    "print(f\"Memory usage with float64: {df[['lat_min','lat_max','lon_min','lon_max']].memory_usage().sum() / 1e6:.2f} MB\")\n",
    "print(f\"Memory usage with float32: {df[['lat_min','lat_max','lon_min','lon_max']].astype('float32', errors='ignore').memory_usage().sum() / 1e6:.2f} MB\")"
   ]
  },
  {
   "cell_type": "markdown",
   "id": "dab1e5d4-5c42-45a9-825a-8419f3eedbb8",
   "metadata": {},
   "source": [
    "### 5.2 Compare run times on different machines within your team and summarize your observations."
   ]
  },
  {
   "cell_type": "markdown",
   "id": "2cbb6829-eb42-45ed-9ab0-a2310df1a72d",
   "metadata": {},
   "source": [
    "Original data :\n",
    "| Team Member | Operating System | RAM | Processor | Is SSD | Time taken |\n",
    "|:-----------:|:----------------:|:---:|:---------:|:------:|:----------:|\n",
    "| Stephen    |                  |     |           |        |            |\n",
    "| Nate    |          MacOS        |  16GB   |    Apple M1 Pro       |   Yes     |    39.3s        |\n",
    "| Natalie    |                  |     |           |        |            |\n",
    "| Nikita    |    Windows              | 16GB    |  12th Gen Intel(R) Core(TM) i7-1255U  |  Yes   |            |"
   ]
  },
  {
   "cell_type": "markdown",
   "id": "5f9fde45-2c9b-4253-9d31-107897503d2f",
   "metadata": {},
   "source": [
    "Approach1 - Select just columns we use :\n",
    "| Team Member | Operating System | RAM | Processor | Is SSD | Time taken |\n",
    "|:-----------:|:----------------:|:---:|:---------:|:------:|:----------:|\n",
    "| Stephen    |                  |     |           |        |            |\n",
    "| Nate    |          MacOS        |  16GB   |    Apple M1 Pro       |   Yes     |     23.9s       |\n",
    "| Natalie    |                  |     |           |        |            |\n",
    "| Nikita    |    Windows              | 16GB    |  12th Gen Intel(R) Core(TM) i7-1255U  |  Yes   |            |"
   ]
  },
  {
   "cell_type": "markdown",
   "id": "19530318-6edf-4799-b237-9e677d3fa8eb",
   "metadata": {},
   "source": [
    "Summary :\n",
    "\n",
    "- xx\n",
    "- xx\n",
    "- xx"
   ]
  },
  {
   "cell_type": "markdown",
   "id": "0b6bd29f-68ca-47fd-9e27-b4421e3b8bf4",
   "metadata": {},
   "source": [
    "# Step6 : Perform Simple EDA in R"
   ]
  },
  {
   "cell_type": "code",
   "execution_count": null,
   "id": "8e03ffb1-6418-48ba-875a-dea337a755d2",
   "metadata": {},
   "outputs": [],
   "source": []
  },
  {
   "cell_type": "code",
   "execution_count": null,
   "id": "75699285-6ea8-4122-9493-96da21dff5e0",
   "metadata": {},
   "outputs": [],
   "source": []
  },
  {
   "cell_type": "code",
   "execution_count": null,
   "id": "ddf11569-22c7-44a7-b63d-250126a83bcc",
   "metadata": {},
   "outputs": [],
   "source": []
  },
  {
   "cell_type": "markdown",
   "id": "d5f080f6-cd52-4984-9eeb-705254cd8d91",
   "metadata": {},
   "source": [
    "| Team Member | Operating System | RAM | Processor | Is SSD | Time taken |\n",
    "|:-----------:|:----------------:|:---:|:---------:|:------:|:----------:|\n",
    "| Stephen    |                  |     |           |        |            |\n",
    "| Nate    |          MacOS        |  16GB   |    Apple M1 Pro       |   Yes     |            |\n",
    "| Natalie    |                  |     |           |        |            |\n",
    "| Nikita    |    Windows              | 16GB    |  12th Gen Intel(R) Core(TM) i7-1255U  |  Yes   |            |"
   ]
  },
  {
   "cell_type": "code",
   "execution_count": null,
   "id": "3afb6829-470c-465f-bd3d-1be1ba222a8c",
   "metadata": {},
   "outputs": [],
   "source": []
  },
  {
   "cell_type": "code",
   "execution_count": null,
   "id": "4ab0da81-caba-4eae-ab09-3f56f9f052e1",
   "metadata": {},
   "outputs": [],
   "source": []
  },
  {
   "cell_type": "code",
   "execution_count": null,
   "id": "6e01c91c-5a88-47c2-b679-697a98d6ea8f",
   "metadata": {},
   "outputs": [],
   "source": []
  }
 ],
 "metadata": {
  "kernelspec": {
   "display_name": "Python [conda env:525]",
   "language": "python",
   "name": "conda-env-525-py"
  },
  "language_info": {
   "codemirror_mode": {
    "name": "ipython",
    "version": 3
   },
   "file_extension": ".py",
   "mimetype": "text/x-python",
   "name": "python",
   "nbconvert_exporter": "python",
   "pygments_lexer": "ipython3",
   "version": "3.10.10"
  }
 },
 "nbformat": 4,
 "nbformat_minor": 5
}
